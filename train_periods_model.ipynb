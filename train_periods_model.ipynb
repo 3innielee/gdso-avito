{
 "cells": [
  {
   "cell_type": "code",
   "execution_count": 1,
   "metadata": {},
   "outputs": [],
   "source": [
    "import pandas as pd\n",
    "import numpy as np\n",
    "import gc\n",
    "from tqdm import tqdm\n",
    "import matplotlib.pyplot as plt\n",
    "import seaborn as sns\n",
    "from matplotlib_venn import venn2, venn2_circles # requires pip install matplotlib_venn\n",
    "import string\n",
    "from sklearn.model_selection import TimeSeriesSplit\n",
    "import nltk\n",
    "from nltk.corpus import stopwords\n",
    "import scipy\n",
    "# import lightgbm as lgb\n",
    "\n",
    "from utils import featurize_date_col, TpotAutoml\n",
    "\n",
    "sns.set()\n",
    "%matplotlib inline\n",
    "pd.options.mode.chained_assignment = None"
   ]
  },
  {
   "cell_type": "code",
   "execution_count": 2,
   "metadata": {},
   "outputs": [],
   "source": [
    "# user inputs:\n",
    "RS = 13\n",
    "np.random.seed(RS)\n",
    "KEEP_ROWS_FRAC = 1.0 # set to 1 if all rows are meant to be kept\n",
    "skiprows_func = lambda i: i>0 and np.random.rand() > KEEP_ROWS_FRAC"
   ]
  },
  {
   "cell_type": "code",
   "execution_count": 3,
   "metadata": {},
   "outputs": [],
   "source": [
    "periods_aggregate = pd.read_csv('data/periods_aggregate_features.csv', skiprows=skiprows_func)"
   ]
  },
  {
   "cell_type": "code",
   "execution_count": 4,
   "metadata": {},
   "outputs": [],
   "source": [
    "train = pd.read_csv('data/train.csv', usecols=['user_id', 'deal_probability', 'activation_date'],\n",
    "                   parse_dates=['activation_date'], infer_datetime_format=True)"
   ]
  },
  {
   "cell_type": "markdown",
   "metadata": {},
   "source": [
    "we use only the aggregate periods data to see what features are the most important"
   ]
  },
  {
   "cell_type": "code",
   "execution_count": 5,
   "metadata": {},
   "outputs": [],
   "source": [
    "all_train = train.merge(periods_aggregate, how='left', on='user_id')"
   ]
  },
  {
   "cell_type": "code",
   "execution_count": 6,
   "metadata": {},
   "outputs": [],
   "source": [
    "# all_train.isna().sum() / len(all_train)\n",
    "all_train = all_train.dropna()"
   ]
  },
  {
   "cell_type": "code",
   "execution_count": 7,
   "metadata": {},
   "outputs": [],
   "source": [
    "all_train = all_train.sort_values(by='activation_date')"
   ]
  },
  {
   "cell_type": "code",
   "execution_count": 8,
   "metadata": {},
   "outputs": [],
   "source": [
    "# all_train = all_train.drop('activation_date', axis=1)\n",
    "all_train = all_train.rename(columns={'activation_date': 'item_activation_date'})\n",
    "all_train = featurize_date_col(all_train, 'item_activation_date', remove_when_done=True)"
   ]
  },
  {
   "cell_type": "code",
   "execution_count": 9,
   "metadata": {},
   "outputs": [],
   "source": [
    "all_train = all_train.set_index('user_id')"
   ]
  },
  {
   "cell_type": "code",
   "execution_count": null,
   "metadata": {},
   "outputs": [],
   "source": [
    "#******** NOTE ***** if you use this scorer, you would also need to transform the predict() results the same way\n",
    "from sklearn.preprocessing import MinMaxScaler\n",
    "from sklearn.metrics import make_scorer\n",
    "def score_func(y_true, y_pred):\n",
    "    y_pred = np.array(y_pred)\n",
    "    y_pred = (y_pred - y_pred.mean()) / (y_pred.std()+1e-6)\n",
    "    y_pred = 1 / (1 + np.exp(-y_pred))\n",
    "    scaler = MinMaxScaler(feature_range=(0, 1))\n",
    "    y_pred = scaler.fit_transform(y_pred.reshape((len(y_pred), 1)))\n",
    "    rmse = np.sqrt(np.mean((y_pred.flatten() - y_true) ** 2))\n",
    "    return -rmse\n",
    "scorer = make_scorer(score_func=score_func, greater_is_better=True)"
   ]
  },
  {
   "cell_type": "code",
   "execution_count": 10,
   "metadata": {},
   "outputs": [],
   "source": [
    "target = 'deal_probability'\n",
    "TIMEOUT_MINS = None\n",
    "# SCORING = 'neg_mean_squared_error'\n",
    "# SCORING = scorer\n",
    "SCORING = 'r2'\n",
    "RS=27\n",
    "X = (all_train.drop(target, axis=1)).values\n",
    "y = train[target].values\n",
    "# tss.split(X) is a generator object used for cross-validation\n",
    "tss = TimeSeriesSplit(n_splits=4)\n",
    "train_index, test_index = list(tss.split(X))[-1]\n",
    "X_train, X_test = X[train_index], X[test_index]\n",
    "y_train, y_test = y[train_index], y[test_index]\n",
    "\n",
    "config_dict = {'sklearn.ensemble.GradientBoostingRegressor': {\n",
    "        'n_estimators': [100, 200, 400],\n",
    "        'loss': [\"ls\", \"lad\", \"huber\", \"quantile\"],\n",
    "        'learning_rate': [1e-3, 1e-2, 1e-1, 0.5, 1.],\n",
    "        'max_depth': range(1, 11),\n",
    "        'min_samples_split': range(2, 21),\n",
    "        'min_samples_leaf': range(1, 21),\n",
    "        'subsample': np.arange(0.05, 1.01, 0.05),\n",
    "        'max_features': np.arange(0.05, 1.01, 0.05),\n",
    "        'alpha': [0.75, 0.8, 0.85, 0.9, 0.95, 0.99]\n",
    "    }}\n",
    "\n",
    "\n",
    "tpot = TpotAutoml(mode='regression',\n",
    "                  max_time_mins=TIMEOUT_MINS,\n",
    "                  generations = 1, population_size=1,\n",
    "                  scoring=SCORING,\n",
    "                  random_state=RS,\n",
    "                  n_jobs=1,\n",
    "                  verbosity=2,\n",
    "                  cv=TimeSeriesSplit(n_splits=3),\n",
    "                  config_dict=config_dict,                 \n",
    "                 )"
   ]
  },
  {
   "cell_type": "code",
   "execution_count": 12,
   "metadata": {},
   "outputs": [],
   "source": [
    "from sklearn.ensemble import GradientBoostingRegressor\n",
    "from sklearn.model_selection import RandomizedSearchCV\n",
    "gbr = GradientBoostingRegressor()\n",
    "tpot = RandomizedSearchCV(estimator=gbr, random_state=RS,\n",
    "                          param_distributions=config_dict['sklearn.ensemble.GradientBoostingRegressor'],\n",
    "                         n_iter=50,\n",
    "                         scoring='r2',\n",
    "                         cv=TimeSeriesSplit(n_splits=4),\n",
    "#                           cv=2,\n",
    "                         verbose=2)"
   ]
  },
  {
   "cell_type": "code",
   "execution_count": null,
   "metadata": {},
   "outputs": [
    {
     "name": "stdout",
     "output_type": "stream",
     "text": [
      "Fitting 4 folds for each of 50 candidates, totalling 200 fits\n",
      "[CV] subsample=0.6500000000000001, n_estimators=400, min_samples_split=5, min_samples_leaf=1, max_features=0.35000000000000003, max_depth=9, loss=ls, learning_rate=0.001, alpha=0.9 \n",
      "[CV]  subsample=0.6500000000000001, n_estimators=400, min_samples_split=5, min_samples_leaf=1, max_features=0.35000000000000003, max_depth=9, loss=ls, learning_rate=0.001, alpha=0.9, total= 5.6min\n",
      "[CV] subsample=0.6500000000000001, n_estimators=400, min_samples_split=5, min_samples_leaf=1, max_features=0.35000000000000003, max_depth=9, loss=ls, learning_rate=0.001, alpha=0.9 \n"
     ]
    },
    {
     "name": "stderr",
     "output_type": "stream",
     "text": [
      "[Parallel(n_jobs=1)]: Done   1 out of   1 | elapsed:  5.6min remaining:    0.0s\n"
     ]
    },
    {
     "name": "stdout",
     "output_type": "stream",
     "text": [
      "[CV]  subsample=0.6500000000000001, n_estimators=400, min_samples_split=5, min_samples_leaf=1, max_features=0.35000000000000003, max_depth=9, loss=ls, learning_rate=0.001, alpha=0.9, total=13.1min\n",
      "[CV] subsample=0.6500000000000001, n_estimators=400, min_samples_split=5, min_samples_leaf=1, max_features=0.35000000000000003, max_depth=9, loss=ls, learning_rate=0.001, alpha=0.9 \n",
      "[CV]  subsample=0.6500000000000001, n_estimators=400, min_samples_split=5, min_samples_leaf=1, max_features=0.35000000000000003, max_depth=9, loss=ls, learning_rate=0.001, alpha=0.9, total=21.4min\n",
      "[CV] subsample=0.6500000000000001, n_estimators=400, min_samples_split=5, min_samples_leaf=1, max_features=0.35000000000000003, max_depth=9, loss=ls, learning_rate=0.001, alpha=0.9 \n",
      "[CV]  subsample=0.6500000000000001, n_estimators=400, min_samples_split=5, min_samples_leaf=1, max_features=0.35000000000000003, max_depth=9, loss=ls, learning_rate=0.001, alpha=0.9, total=32.4min\n",
      "[CV] subsample=0.9000000000000001, n_estimators=400, min_samples_split=17, min_samples_leaf=19, max_features=0.45, max_depth=2, loss=quantile, learning_rate=0.1, alpha=0.99 \n",
      "[CV]  subsample=0.9000000000000001, n_estimators=400, min_samples_split=17, min_samples_leaf=19, max_features=0.45, max_depth=2, loss=quantile, learning_rate=0.1, alpha=0.99, total=  40.1s\n",
      "[CV] subsample=0.9000000000000001, n_estimators=400, min_samples_split=17, min_samples_leaf=19, max_features=0.45, max_depth=2, loss=quantile, learning_rate=0.1, alpha=0.99 \n",
      "[CV]  subsample=0.9000000000000001, n_estimators=400, min_samples_split=17, min_samples_leaf=19, max_features=0.45, max_depth=2, loss=quantile, learning_rate=0.1, alpha=0.99, total= 1.6min\n",
      "[CV] subsample=0.9000000000000001, n_estimators=400, min_samples_split=17, min_samples_leaf=19, max_features=0.45, max_depth=2, loss=quantile, learning_rate=0.1, alpha=0.99 \n",
      "[CV]  subsample=0.9000000000000001, n_estimators=400, min_samples_split=17, min_samples_leaf=19, max_features=0.45, max_depth=2, loss=quantile, learning_rate=0.1, alpha=0.99, total= 2.7min\n",
      "[CV] subsample=0.9000000000000001, n_estimators=400, min_samples_split=17, min_samples_leaf=19, max_features=0.45, max_depth=2, loss=quantile, learning_rate=0.1, alpha=0.99 \n",
      "[CV]  subsample=0.9000000000000001, n_estimators=400, min_samples_split=17, min_samples_leaf=19, max_features=0.45, max_depth=2, loss=quantile, learning_rate=0.1, alpha=0.99, total= 3.9min\n",
      "[CV] subsample=0.7000000000000001, n_estimators=400, min_samples_split=14, min_samples_leaf=15, max_features=1.0, max_depth=3, loss=lad, learning_rate=0.001, alpha=0.85 \n",
      "[CV]  subsample=0.7000000000000001, n_estimators=400, min_samples_split=14, min_samples_leaf=15, max_features=1.0, max_depth=3, loss=lad, learning_rate=0.001, alpha=0.85, total= 1.7min\n",
      "[CV] subsample=0.7000000000000001, n_estimators=400, min_samples_split=14, min_samples_leaf=15, max_features=1.0, max_depth=3, loss=lad, learning_rate=0.001, alpha=0.85 \n",
      "[CV]  subsample=0.7000000000000001, n_estimators=400, min_samples_split=14, min_samples_leaf=15, max_features=1.0, max_depth=3, loss=lad, learning_rate=0.001, alpha=0.85, total= 4.3min\n",
      "[CV] subsample=0.7000000000000001, n_estimators=400, min_samples_split=14, min_samples_leaf=15, max_features=1.0, max_depth=3, loss=lad, learning_rate=0.001, alpha=0.85 \n",
      "[CV]  subsample=0.7000000000000001, n_estimators=400, min_samples_split=14, min_samples_leaf=15, max_features=1.0, max_depth=3, loss=lad, learning_rate=0.001, alpha=0.85, total= 7.1min\n",
      "[CV] subsample=0.7000000000000001, n_estimators=400, min_samples_split=14, min_samples_leaf=15, max_features=1.0, max_depth=3, loss=lad, learning_rate=0.001, alpha=0.85 \n",
      "[CV]  subsample=0.7000000000000001, n_estimators=400, min_samples_split=14, min_samples_leaf=15, max_features=1.0, max_depth=3, loss=lad, learning_rate=0.001, alpha=0.85, total=10.5min\n",
      "[CV] subsample=0.7500000000000001, n_estimators=400, min_samples_split=7, min_samples_leaf=9, max_features=0.8500000000000001, max_depth=7, loss=lad, learning_rate=0.01, alpha=0.95 \n",
      "[CV]  subsample=0.7500000000000001, n_estimators=400, min_samples_split=7, min_samples_leaf=9, max_features=0.8500000000000001, max_depth=7, loss=lad, learning_rate=0.01, alpha=0.95, total= 7.7min\n",
      "[CV] subsample=0.7500000000000001, n_estimators=400, min_samples_split=7, min_samples_leaf=9, max_features=0.8500000000000001, max_depth=7, loss=lad, learning_rate=0.01, alpha=0.95 \n",
      "[CV]  subsample=0.7500000000000001, n_estimators=400, min_samples_split=7, min_samples_leaf=9, max_features=0.8500000000000001, max_depth=7, loss=lad, learning_rate=0.01, alpha=0.95, total=17.7min\n",
      "[CV] subsample=0.7500000000000001, n_estimators=400, min_samples_split=7, min_samples_leaf=9, max_features=0.8500000000000001, max_depth=7, loss=lad, learning_rate=0.01, alpha=0.95 \n",
      "[CV]  subsample=0.7500000000000001, n_estimators=400, min_samples_split=7, min_samples_leaf=9, max_features=0.8500000000000001, max_depth=7, loss=lad, learning_rate=0.01, alpha=0.95, total=28.7min\n",
      "[CV] subsample=0.7500000000000001, n_estimators=400, min_samples_split=7, min_samples_leaf=9, max_features=0.8500000000000001, max_depth=7, loss=lad, learning_rate=0.01, alpha=0.95 \n",
      "[CV]  subsample=0.7500000000000001, n_estimators=400, min_samples_split=7, min_samples_leaf=9, max_features=0.8500000000000001, max_depth=7, loss=lad, learning_rate=0.01, alpha=0.95, total=41.2min\n",
      "[CV] subsample=0.1, n_estimators=100, min_samples_split=18, min_samples_leaf=9, max_features=0.8500000000000001, max_depth=1, loss=lad, learning_rate=0.01, alpha=0.99 \n",
      "[CV]  subsample=0.1, n_estimators=100, min_samples_split=18, min_samples_leaf=9, max_features=0.8500000000000001, max_depth=1, loss=lad, learning_rate=0.01, alpha=0.99, total=   3.6s\n",
      "[CV] subsample=0.1, n_estimators=100, min_samples_split=18, min_samples_leaf=9, max_features=0.8500000000000001, max_depth=1, loss=lad, learning_rate=0.01, alpha=0.99 \n",
      "[CV]  subsample=0.1, n_estimators=100, min_samples_split=18, min_samples_leaf=9, max_features=0.8500000000000001, max_depth=1, loss=lad, learning_rate=0.01, alpha=0.99, total=   8.4s\n",
      "[CV] subsample=0.1, n_estimators=100, min_samples_split=18, min_samples_leaf=9, max_features=0.8500000000000001, max_depth=1, loss=lad, learning_rate=0.01, alpha=0.99 \n",
      "[CV]  subsample=0.1, n_estimators=100, min_samples_split=18, min_samples_leaf=9, max_features=0.8500000000000001, max_depth=1, loss=lad, learning_rate=0.01, alpha=0.99, total=  14.1s\n",
      "[CV] subsample=0.1, n_estimators=100, min_samples_split=18, min_samples_leaf=9, max_features=0.8500000000000001, max_depth=1, loss=lad, learning_rate=0.01, alpha=0.99 \n",
      "[CV]  subsample=0.1, n_estimators=100, min_samples_split=18, min_samples_leaf=9, max_features=0.8500000000000001, max_depth=1, loss=lad, learning_rate=0.01, alpha=0.99, total=  20.8s\n",
      "[CV] subsample=0.55, n_estimators=200, min_samples_split=3, min_samples_leaf=4, max_features=0.05, max_depth=9, loss=ls, learning_rate=0.5, alpha=0.95 \n",
      "[CV]  subsample=0.55, n_estimators=200, min_samples_split=3, min_samples_leaf=4, max_features=0.05, max_depth=9, loss=ls, learning_rate=0.5, alpha=0.95, total=  37.4s\n",
      "[CV] subsample=0.55, n_estimators=200, min_samples_split=3, min_samples_leaf=4, max_features=0.05, max_depth=9, loss=ls, learning_rate=0.5, alpha=0.95 \n",
      "[CV]  subsample=0.55, n_estimators=200, min_samples_split=3, min_samples_leaf=4, max_features=0.05, max_depth=9, loss=ls, learning_rate=0.5, alpha=0.95, total= 1.5min\n",
      "[CV] subsample=0.55, n_estimators=200, min_samples_split=3, min_samples_leaf=4, max_features=0.05, max_depth=9, loss=ls, learning_rate=0.5, alpha=0.95 \n",
      "[CV]  subsample=0.55, n_estimators=200, min_samples_split=3, min_samples_leaf=4, max_features=0.05, max_depth=9, loss=ls, learning_rate=0.5, alpha=0.95, total= 2.4min\n",
      "[CV] subsample=0.55, n_estimators=200, min_samples_split=3, min_samples_leaf=4, max_features=0.05, max_depth=9, loss=ls, learning_rate=0.5, alpha=0.95 \n",
      "[CV]  subsample=0.55, n_estimators=200, min_samples_split=3, min_samples_leaf=4, max_features=0.05, max_depth=9, loss=ls, learning_rate=0.5, alpha=0.95, total= 3.6min\n",
      "[CV] subsample=0.6000000000000001, n_estimators=100, min_samples_split=12, min_samples_leaf=20, max_features=0.35000000000000003, max_depth=8, loss=lad, learning_rate=0.001, alpha=0.99 \n",
      "[CV]  subsample=0.6000000000000001, n_estimators=100, min_samples_split=12, min_samples_leaf=20, max_features=0.35000000000000003, max_depth=8, loss=lad, learning_rate=0.001, alpha=0.99, total= 1.0min\n",
      "[CV] subsample=0.6000000000000001, n_estimators=100, min_samples_split=12, min_samples_leaf=20, max_features=0.35000000000000003, max_depth=8, loss=lad, learning_rate=0.001, alpha=0.99 \n",
      "[CV]  subsample=0.6000000000000001, n_estimators=100, min_samples_split=12, min_samples_leaf=20, max_features=0.35000000000000003, max_depth=8, loss=lad, learning_rate=0.001, alpha=0.99, total= 2.4min\n",
      "[CV] subsample=0.6000000000000001, n_estimators=100, min_samples_split=12, min_samples_leaf=20, max_features=0.35000000000000003, max_depth=8, loss=lad, learning_rate=0.001, alpha=0.99 \n",
      "[CV]  subsample=0.6000000000000001, n_estimators=100, min_samples_split=12, min_samples_leaf=20, max_features=0.35000000000000003, max_depth=8, loss=lad, learning_rate=0.001, alpha=0.99, total= 3.9min\n",
      "[CV] subsample=0.6000000000000001, n_estimators=100, min_samples_split=12, min_samples_leaf=20, max_features=0.35000000000000003, max_depth=8, loss=lad, learning_rate=0.001, alpha=0.99 \n",
      "[CV]  subsample=0.6000000000000001, n_estimators=100, min_samples_split=12, min_samples_leaf=20, max_features=0.35000000000000003, max_depth=8, loss=lad, learning_rate=0.001, alpha=0.99, total= 5.2min\n",
      "[CV] subsample=0.4, n_estimators=100, min_samples_split=13, min_samples_leaf=7, max_features=0.05, max_depth=1, loss=ls, learning_rate=0.01, alpha=0.9 \n",
      "[CV]  subsample=0.4, n_estimators=100, min_samples_split=13, min_samples_leaf=7, max_features=0.05, max_depth=1, loss=ls, learning_rate=0.01, alpha=0.9, total=   2.6s\n",
      "[CV] subsample=0.4, n_estimators=100, min_samples_split=13, min_samples_leaf=7, max_features=0.05, max_depth=1, loss=ls, learning_rate=0.01, alpha=0.9 \n",
      "[CV]  subsample=0.4, n_estimators=100, min_samples_split=13, min_samples_leaf=7, max_features=0.05, max_depth=1, loss=ls, learning_rate=0.01, alpha=0.9, total=   5.3s\n",
      "[CV] subsample=0.4, n_estimators=100, min_samples_split=13, min_samples_leaf=7, max_features=0.05, max_depth=1, loss=ls, learning_rate=0.01, alpha=0.9 \n",
      "[CV]  subsample=0.4, n_estimators=100, min_samples_split=13, min_samples_leaf=7, max_features=0.05, max_depth=1, loss=ls, learning_rate=0.01, alpha=0.9, total=   8.5s\n",
      "[CV] subsample=0.4, n_estimators=100, min_samples_split=13, min_samples_leaf=7, max_features=0.05, max_depth=1, loss=ls, learning_rate=0.01, alpha=0.9 \n",
      "[CV]  subsample=0.4, n_estimators=100, min_samples_split=13, min_samples_leaf=7, max_features=0.05, max_depth=1, loss=ls, learning_rate=0.01, alpha=0.9, total=  12.4s\n",
      "[CV] subsample=1.0, n_estimators=400, min_samples_split=10, min_samples_leaf=2, max_features=0.25, max_depth=7, loss=ls, learning_rate=0.01, alpha=0.75 \n",
      "[CV]  subsample=1.0, n_estimators=400, min_samples_split=10, min_samples_leaf=2, max_features=0.25, max_depth=7, loss=ls, learning_rate=0.01, alpha=0.75, total= 2.1min\n",
      "[CV] subsample=1.0, n_estimators=400, min_samples_split=10, min_samples_leaf=2, max_features=0.25, max_depth=7, loss=ls, learning_rate=0.01, alpha=0.75 \n",
      "[CV]  subsample=1.0, n_estimators=400, min_samples_split=10, min_samples_leaf=2, max_features=0.25, max_depth=7, loss=ls, learning_rate=0.01, alpha=0.75, total= 5.2min\n",
      "[CV] subsample=1.0, n_estimators=400, min_samples_split=10, min_samples_leaf=2, max_features=0.25, max_depth=7, loss=ls, learning_rate=0.01, alpha=0.75 \n",
      "[CV]  subsample=1.0, n_estimators=400, min_samples_split=10, min_samples_leaf=2, max_features=0.25, max_depth=7, loss=ls, learning_rate=0.01, alpha=0.75, total= 8.9min\n",
      "[CV] subsample=1.0, n_estimators=400, min_samples_split=10, min_samples_leaf=2, max_features=0.25, max_depth=7, loss=ls, learning_rate=0.01, alpha=0.75 \n",
      "[CV]  subsample=1.0, n_estimators=400, min_samples_split=10, min_samples_leaf=2, max_features=0.25, max_depth=7, loss=ls, learning_rate=0.01, alpha=0.75, total=13.2min\n",
      "[CV] subsample=0.6000000000000001, n_estimators=100, min_samples_split=3, min_samples_leaf=8, max_features=0.6500000000000001, max_depth=2, loss=lad, learning_rate=0.5, alpha=0.99 \n",
      "[CV]  subsample=0.6000000000000001, n_estimators=100, min_samples_split=3, min_samples_leaf=8, max_features=0.6500000000000001, max_depth=2, loss=lad, learning_rate=0.5, alpha=0.99, total=  11.6s\n",
      "[CV] subsample=0.6000000000000001, n_estimators=100, min_samples_split=3, min_samples_leaf=8, max_features=0.6500000000000001, max_depth=2, loss=lad, learning_rate=0.5, alpha=0.99 \n",
      "[CV]  subsample=0.6000000000000001, n_estimators=100, min_samples_split=3, min_samples_leaf=8, max_features=0.6500000000000001, max_depth=2, loss=lad, learning_rate=0.5, alpha=0.99, total=  28.5s\n",
      "[CV] subsample=0.6000000000000001, n_estimators=100, min_samples_split=3, min_samples_leaf=8, max_features=0.6500000000000001, max_depth=2, loss=lad, learning_rate=0.5, alpha=0.99 \n",
      "[CV]  subsample=0.6000000000000001, n_estimators=100, min_samples_split=3, min_samples_leaf=8, max_features=0.6500000000000001, max_depth=2, loss=lad, learning_rate=0.5, alpha=0.99, total=  47.8s\n",
      "[CV] subsample=0.6000000000000001, n_estimators=100, min_samples_split=3, min_samples_leaf=8, max_features=0.6500000000000001, max_depth=2, loss=lad, learning_rate=0.5, alpha=0.99 \n",
      "[CV]  subsample=0.6000000000000001, n_estimators=100, min_samples_split=3, min_samples_leaf=8, max_features=0.6500000000000001, max_depth=2, loss=lad, learning_rate=0.5, alpha=0.99, total= 1.1min\n",
      "[CV] subsample=0.9500000000000001, n_estimators=400, min_samples_split=12, min_samples_leaf=11, max_features=0.9500000000000001, max_depth=8, loss=ls, learning_rate=0.001, alpha=0.99 \n",
      "[CV]  subsample=0.9500000000000001, n_estimators=400, min_samples_split=12, min_samples_leaf=11, max_features=0.9500000000000001, max_depth=8, loss=ls, learning_rate=0.001, alpha=0.99, total=10.5min\n",
      "[CV] subsample=0.9500000000000001, n_estimators=400, min_samples_split=12, min_samples_leaf=11, max_features=0.9500000000000001, max_depth=8, loss=ls, learning_rate=0.001, alpha=0.99 \n",
      "[CV]  subsample=0.9500000000000001, n_estimators=400, min_samples_split=12, min_samples_leaf=11, max_features=0.9500000000000001, max_depth=8, loss=ls, learning_rate=0.001, alpha=0.99, total=21.4min\n",
      "[CV] subsample=0.9500000000000001, n_estimators=400, min_samples_split=12, min_samples_leaf=11, max_features=0.9500000000000001, max_depth=8, loss=ls, learning_rate=0.001, alpha=0.99 \n",
      "[CV]  subsample=0.9500000000000001, n_estimators=400, min_samples_split=12, min_samples_leaf=11, max_features=0.9500000000000001, max_depth=8, loss=ls, learning_rate=0.001, alpha=0.99, total=38.6min\n",
      "[CV] subsample=0.9500000000000001, n_estimators=400, min_samples_split=12, min_samples_leaf=11, max_features=0.9500000000000001, max_depth=8, loss=ls, learning_rate=0.001, alpha=0.99 \n",
      "[CV]  subsample=0.9500000000000001, n_estimators=400, min_samples_split=12, min_samples_leaf=11, max_features=0.9500000000000001, max_depth=8, loss=ls, learning_rate=0.001, alpha=0.99, total=59.4min\n",
      "[CV] subsample=0.5, n_estimators=200, min_samples_split=4, min_samples_leaf=9, max_features=0.7500000000000001, max_depth=4, loss=lad, learning_rate=0.001, alpha=0.75 \n",
      "[CV]  subsample=0.5, n_estimators=200, min_samples_split=4, min_samples_leaf=9, max_features=0.7500000000000001, max_depth=4, loss=lad, learning_rate=0.001, alpha=0.75, total=  50.6s\n",
      "[CV] subsample=0.5, n_estimators=200, min_samples_split=4, min_samples_leaf=9, max_features=0.7500000000000001, max_depth=4, loss=lad, learning_rate=0.001, alpha=0.75 \n",
      "[CV]  subsample=0.5, n_estimators=200, min_samples_split=4, min_samples_leaf=9, max_features=0.7500000000000001, max_depth=4, loss=lad, learning_rate=0.001, alpha=0.75, total= 2.0min\n",
      "[CV] subsample=0.5, n_estimators=200, min_samples_split=4, min_samples_leaf=9, max_features=0.7500000000000001, max_depth=4, loss=lad, learning_rate=0.001, alpha=0.75 \n",
      "[CV]  subsample=0.5, n_estimators=200, min_samples_split=4, min_samples_leaf=9, max_features=0.7500000000000001, max_depth=4, loss=lad, learning_rate=0.001, alpha=0.75, total= 3.5min\n",
      "[CV] subsample=0.5, n_estimators=200, min_samples_split=4, min_samples_leaf=9, max_features=0.7500000000000001, max_depth=4, loss=lad, learning_rate=0.001, alpha=0.75 \n",
      "[CV]  subsample=0.5, n_estimators=200, min_samples_split=4, min_samples_leaf=9, max_features=0.7500000000000001, max_depth=4, loss=lad, learning_rate=0.001, alpha=0.75, total= 5.1min\n",
      "[CV] subsample=0.8, n_estimators=200, min_samples_split=16, min_samples_leaf=19, max_features=0.7500000000000001, max_depth=2, loss=quantile, learning_rate=0.1, alpha=0.9 \n",
      "[CV]  subsample=0.8, n_estimators=200, min_samples_split=16, min_samples_leaf=19, max_features=0.7500000000000001, max_depth=2, loss=quantile, learning_rate=0.1, alpha=0.9, total=  29.0s\n",
      "[CV] subsample=0.8, n_estimators=200, min_samples_split=16, min_samples_leaf=19, max_features=0.7500000000000001, max_depth=2, loss=quantile, learning_rate=0.1, alpha=0.9 \n",
      "[CV]  subsample=0.8, n_estimators=200, min_samples_split=16, min_samples_leaf=19, max_features=0.7500000000000001, max_depth=2, loss=quantile, learning_rate=0.1, alpha=0.9, total= 1.2min\n",
      "[CV] subsample=0.8, n_estimators=200, min_samples_split=16, min_samples_leaf=19, max_features=0.7500000000000001, max_depth=2, loss=quantile, learning_rate=0.1, alpha=0.9 \n",
      "[CV]  subsample=0.8, n_estimators=200, min_samples_split=16, min_samples_leaf=19, max_features=0.7500000000000001, max_depth=2, loss=quantile, learning_rate=0.1, alpha=0.9, total= 2.1min\n",
      "[CV] subsample=0.8, n_estimators=200, min_samples_split=16, min_samples_leaf=19, max_features=0.7500000000000001, max_depth=2, loss=quantile, learning_rate=0.1, alpha=0.9 \n",
      "[CV]  subsample=0.8, n_estimators=200, min_samples_split=16, min_samples_leaf=19, max_features=0.7500000000000001, max_depth=2, loss=quantile, learning_rate=0.1, alpha=0.9, total= 2.9min\n",
      "[CV] subsample=0.8500000000000001, n_estimators=400, min_samples_split=18, min_samples_leaf=2, max_features=0.7500000000000001, max_depth=5, loss=quantile, learning_rate=0.001, alpha=0.9 \n",
      "[CV]  subsample=0.8500000000000001, n_estimators=400, min_samples_split=18, min_samples_leaf=2, max_features=0.7500000000000001, max_depth=5, loss=quantile, learning_rate=0.001, alpha=0.9, total= 2.6min\n",
      "[CV] subsample=0.8500000000000001, n_estimators=400, min_samples_split=18, min_samples_leaf=2, max_features=0.7500000000000001, max_depth=5, loss=quantile, learning_rate=0.001, alpha=0.9 \n",
      "[CV]  subsample=0.8500000000000001, n_estimators=400, min_samples_split=18, min_samples_leaf=2, max_features=0.7500000000000001, max_depth=5, loss=quantile, learning_rate=0.001, alpha=0.9, total= 6.1min\n",
      "[CV] subsample=0.8500000000000001, n_estimators=400, min_samples_split=18, min_samples_leaf=2, max_features=0.7500000000000001, max_depth=5, loss=quantile, learning_rate=0.001, alpha=0.9 \n",
      "[CV]  subsample=0.8500000000000001, n_estimators=400, min_samples_split=18, min_samples_leaf=2, max_features=0.7500000000000001, max_depth=5, loss=quantile, learning_rate=0.001, alpha=0.9, total=10.9min\n",
      "[CV] subsample=0.8500000000000001, n_estimators=400, min_samples_split=18, min_samples_leaf=2, max_features=0.7500000000000001, max_depth=5, loss=quantile, learning_rate=0.001, alpha=0.9 \n",
      "[CV]  subsample=0.8500000000000001, n_estimators=400, min_samples_split=18, min_samples_leaf=2, max_features=0.7500000000000001, max_depth=5, loss=quantile, learning_rate=0.001, alpha=0.9, total=16.1min\n",
      "[CV] subsample=0.3, n_estimators=400, min_samples_split=14, min_samples_leaf=9, max_features=0.9500000000000001, max_depth=8, loss=quantile, learning_rate=0.5, alpha=0.99 \n",
      "[CV]  subsample=0.3, n_estimators=400, min_samples_split=14, min_samples_leaf=9, max_features=0.9500000000000001, max_depth=8, loss=quantile, learning_rate=0.5, alpha=0.99, total= 5.1min\n",
      "[CV] subsample=0.3, n_estimators=400, min_samples_split=14, min_samples_leaf=9, max_features=0.9500000000000001, max_depth=8, loss=quantile, learning_rate=0.5, alpha=0.99 \n",
      "[CV]  subsample=0.3, n_estimators=400, min_samples_split=14, min_samples_leaf=9, max_features=0.9500000000000001, max_depth=8, loss=quantile, learning_rate=0.5, alpha=0.99, total=12.3min\n",
      "[CV] subsample=0.3, n_estimators=400, min_samples_split=14, min_samples_leaf=9, max_features=0.9500000000000001, max_depth=8, loss=quantile, learning_rate=0.5, alpha=0.99 \n",
      "[CV]  subsample=0.3, n_estimators=400, min_samples_split=14, min_samples_leaf=9, max_features=0.9500000000000001, max_depth=8, loss=quantile, learning_rate=0.5, alpha=0.99, total=19.1min\n",
      "[CV] subsample=0.3, n_estimators=400, min_samples_split=14, min_samples_leaf=9, max_features=0.9500000000000001, max_depth=8, loss=quantile, learning_rate=0.5, alpha=0.99 \n",
      "[CV]  subsample=0.3, n_estimators=400, min_samples_split=14, min_samples_leaf=9, max_features=0.9500000000000001, max_depth=8, loss=quantile, learning_rate=0.5, alpha=0.99, total=30.9min\n",
      "[CV] subsample=0.55, n_estimators=100, min_samples_split=11, min_samples_leaf=10, max_features=0.7500000000000001, max_depth=2, loss=lad, learning_rate=0.001, alpha=0.85 \n",
      "[CV]  subsample=0.55, n_estimators=100, min_samples_split=11, min_samples_leaf=10, max_features=0.7500000000000001, max_depth=2, loss=lad, learning_rate=0.001, alpha=0.85, total=  13.6s\n",
      "[CV] subsample=0.55, n_estimators=100, min_samples_split=11, min_samples_leaf=10, max_features=0.7500000000000001, max_depth=2, loss=lad, learning_rate=0.001, alpha=0.85 \n",
      "[CV]  subsample=0.55, n_estimators=100, min_samples_split=11, min_samples_leaf=10, max_features=0.7500000000000001, max_depth=2, loss=lad, learning_rate=0.001, alpha=0.85, total=  33.3s\n",
      "[CV] subsample=0.55, n_estimators=100, min_samples_split=11, min_samples_leaf=10, max_features=0.7500000000000001, max_depth=2, loss=lad, learning_rate=0.001, alpha=0.85 \n",
      "[CV]  subsample=0.55, n_estimators=100, min_samples_split=11, min_samples_leaf=10, max_features=0.7500000000000001, max_depth=2, loss=lad, learning_rate=0.001, alpha=0.85, total=  55.4s\n",
      "[CV] subsample=0.55, n_estimators=100, min_samples_split=11, min_samples_leaf=10, max_features=0.7500000000000001, max_depth=2, loss=lad, learning_rate=0.001, alpha=0.85 \n",
      "[CV]  subsample=0.55, n_estimators=100, min_samples_split=11, min_samples_leaf=10, max_features=0.7500000000000001, max_depth=2, loss=lad, learning_rate=0.001, alpha=0.85, total= 1.3min\n",
      "[CV] subsample=0.7500000000000001, n_estimators=400, min_samples_split=16, min_samples_leaf=6, max_features=0.55, max_depth=5, loss=ls, learning_rate=1.0, alpha=0.9 \n",
      "[CV]  subsample=0.7500000000000001, n_estimators=400, min_samples_split=16, min_samples_leaf=6, max_features=0.55, max_depth=5, loss=ls, learning_rate=1.0, alpha=0.9, total= 2.3min\n",
      "[CV] subsample=0.7500000000000001, n_estimators=400, min_samples_split=16, min_samples_leaf=6, max_features=0.55, max_depth=5, loss=ls, learning_rate=1.0, alpha=0.9 \n",
      "[CV]  subsample=0.7500000000000001, n_estimators=400, min_samples_split=16, min_samples_leaf=6, max_features=0.55, max_depth=5, loss=ls, learning_rate=1.0, alpha=0.9, total= 5.5min\n",
      "[CV] subsample=0.7500000000000001, n_estimators=400, min_samples_split=16, min_samples_leaf=6, max_features=0.55, max_depth=5, loss=ls, learning_rate=1.0, alpha=0.9 \n",
      "[CV]  subsample=0.7500000000000001, n_estimators=400, min_samples_split=16, min_samples_leaf=6, max_features=0.55, max_depth=5, loss=ls, learning_rate=1.0, alpha=0.9, total= 9.7min\n",
      "[CV] subsample=0.7500000000000001, n_estimators=400, min_samples_split=16, min_samples_leaf=6, max_features=0.55, max_depth=5, loss=ls, learning_rate=1.0, alpha=0.9 \n",
      "[CV]  subsample=0.7500000000000001, n_estimators=400, min_samples_split=16, min_samples_leaf=6, max_features=0.55, max_depth=5, loss=ls, learning_rate=1.0, alpha=0.9, total=14.3min\n",
      "[CV] subsample=0.8, n_estimators=100, min_samples_split=20, min_samples_leaf=14, max_features=0.7000000000000001, max_depth=10, loss=quantile, learning_rate=0.1, alpha=0.85 \n",
      "[CV]  subsample=0.8, n_estimators=100, min_samples_split=20, min_samples_leaf=14, max_features=0.7000000000000001, max_depth=10, loss=quantile, learning_rate=0.1, alpha=0.85, total= 3.4min\n",
      "[CV] subsample=0.8, n_estimators=100, min_samples_split=20, min_samples_leaf=14, max_features=0.7000000000000001, max_depth=10, loss=quantile, learning_rate=0.1, alpha=0.85 \n",
      "[CV]  subsample=0.8, n_estimators=100, min_samples_split=20, min_samples_leaf=14, max_features=0.7000000000000001, max_depth=10, loss=quantile, learning_rate=0.1, alpha=0.85, total= 8.0min\n",
      "[CV] subsample=0.8, n_estimators=100, min_samples_split=20, min_samples_leaf=14, max_features=0.7000000000000001, max_depth=10, loss=quantile, learning_rate=0.1, alpha=0.85 \n",
      "[CV]  subsample=0.8, n_estimators=100, min_samples_split=20, min_samples_leaf=14, max_features=0.7000000000000001, max_depth=10, loss=quantile, learning_rate=0.1, alpha=0.85, total=12.9min\n",
      "[CV] subsample=0.8, n_estimators=100, min_samples_split=20, min_samples_leaf=14, max_features=0.7000000000000001, max_depth=10, loss=quantile, learning_rate=0.1, alpha=0.85 \n",
      "[CV]  subsample=0.8, n_estimators=100, min_samples_split=20, min_samples_leaf=14, max_features=0.7000000000000001, max_depth=10, loss=quantile, learning_rate=0.1, alpha=0.85, total=21.2min\n",
      "[CV] subsample=0.8500000000000001, n_estimators=400, min_samples_split=9, min_samples_leaf=8, max_features=0.15000000000000002, max_depth=6, loss=ls, learning_rate=0.001, alpha=0.75 \n",
      "[CV]  subsample=0.8500000000000001, n_estimators=400, min_samples_split=9, min_samples_leaf=8, max_features=0.15000000000000002, max_depth=6, loss=ls, learning_rate=0.001, alpha=0.75, total=  59.9s\n",
      "[CV] subsample=0.8500000000000001, n_estimators=400, min_samples_split=9, min_samples_leaf=8, max_features=0.15000000000000002, max_depth=6, loss=ls, learning_rate=0.001, alpha=0.75 \n",
      "[CV]  subsample=0.8500000000000001, n_estimators=400, min_samples_split=9, min_samples_leaf=8, max_features=0.15000000000000002, max_depth=6, loss=ls, learning_rate=0.001, alpha=0.75, total= 2.4min\n",
      "[CV] subsample=0.8500000000000001, n_estimators=400, min_samples_split=9, min_samples_leaf=8, max_features=0.15000000000000002, max_depth=6, loss=ls, learning_rate=0.001, alpha=0.75 \n",
      "[CV]  subsample=0.8500000000000001, n_estimators=400, min_samples_split=9, min_samples_leaf=8, max_features=0.15000000000000002, max_depth=6, loss=ls, learning_rate=0.001, alpha=0.75, total= 4.1min\n",
      "[CV] subsample=0.8500000000000001, n_estimators=400, min_samples_split=9, min_samples_leaf=8, max_features=0.15000000000000002, max_depth=6, loss=ls, learning_rate=0.001, alpha=0.75 \n",
      "[CV]  subsample=0.8500000000000001, n_estimators=400, min_samples_split=9, min_samples_leaf=8, max_features=0.15000000000000002, max_depth=6, loss=ls, learning_rate=0.001, alpha=0.75, total= 6.1min\n",
      "[CV] subsample=0.7000000000000001, n_estimators=400, min_samples_split=17, min_samples_leaf=20, max_features=0.55, max_depth=4, loss=quantile, learning_rate=0.1, alpha=0.8 \n",
      "[CV]  subsample=0.7000000000000001, n_estimators=400, min_samples_split=17, min_samples_leaf=20, max_features=0.55, max_depth=4, loss=quantile, learning_rate=0.1, alpha=0.8, total= 1.6min\n",
      "[CV] subsample=0.7000000000000001, n_estimators=400, min_samples_split=17, min_samples_leaf=20, max_features=0.55, max_depth=4, loss=quantile, learning_rate=0.1, alpha=0.8 \n",
      "[CV]  subsample=0.7000000000000001, n_estimators=400, min_samples_split=17, min_samples_leaf=20, max_features=0.55, max_depth=4, loss=quantile, learning_rate=0.1, alpha=0.8, total= 3.8min\n",
      "[CV] subsample=0.7000000000000001, n_estimators=400, min_samples_split=17, min_samples_leaf=20, max_features=0.55, max_depth=4, loss=quantile, learning_rate=0.1, alpha=0.8 \n",
      "[CV]  subsample=0.7000000000000001, n_estimators=400, min_samples_split=17, min_samples_leaf=20, max_features=0.55, max_depth=4, loss=quantile, learning_rate=0.1, alpha=0.8, total= 6.3min\n",
      "[CV] subsample=0.7000000000000001, n_estimators=400, min_samples_split=17, min_samples_leaf=20, max_features=0.55, max_depth=4, loss=quantile, learning_rate=0.1, alpha=0.8 \n",
      "[CV]  subsample=0.7000000000000001, n_estimators=400, min_samples_split=17, min_samples_leaf=20, max_features=0.55, max_depth=4, loss=quantile, learning_rate=0.1, alpha=0.8, total= 9.3min\n",
      "[CV] subsample=0.4, n_estimators=400, min_samples_split=4, min_samples_leaf=5, max_features=0.8500000000000001, max_depth=9, loss=lad, learning_rate=0.001, alpha=0.9 \n",
      "[CV]  subsample=0.4, n_estimators=400, min_samples_split=4, min_samples_leaf=5, max_features=0.8500000000000001, max_depth=9, loss=lad, learning_rate=0.001, alpha=0.9, total=16.6min\n",
      "[CV] subsample=0.4, n_estimators=400, min_samples_split=4, min_samples_leaf=5, max_features=0.8500000000000001, max_depth=9, loss=lad, learning_rate=0.001, alpha=0.9 \n",
      "[CV]  subsample=0.4, n_estimators=400, min_samples_split=4, min_samples_leaf=5, max_features=0.8500000000000001, max_depth=9, loss=lad, learning_rate=0.001, alpha=0.9, total=42.3min\n",
      "[CV] subsample=0.4, n_estimators=400, min_samples_split=4, min_samples_leaf=5, max_features=0.8500000000000001, max_depth=9, loss=lad, learning_rate=0.001, alpha=0.9 \n",
      "[CV]  subsample=0.4, n_estimators=400, min_samples_split=4, min_samples_leaf=5, max_features=0.8500000000000001, max_depth=9, loss=lad, learning_rate=0.001, alpha=0.9, total=66.7min\n",
      "[CV] subsample=0.4, n_estimators=400, min_samples_split=4, min_samples_leaf=5, max_features=0.8500000000000001, max_depth=9, loss=lad, learning_rate=0.001, alpha=0.9 \n",
      "[CV]  subsample=0.4, n_estimators=400, min_samples_split=4, min_samples_leaf=5, max_features=0.8500000000000001, max_depth=9, loss=lad, learning_rate=0.001, alpha=0.9, total=96.3min\n",
      "[CV] subsample=0.9500000000000001, n_estimators=200, min_samples_split=5, min_samples_leaf=7, max_features=0.6000000000000001, max_depth=3, loss=quantile, learning_rate=0.5, alpha=0.99 \n",
      "[CV]  subsample=0.9500000000000001, n_estimators=200, min_samples_split=5, min_samples_leaf=7, max_features=0.6000000000000001, max_depth=3, loss=quantile, learning_rate=0.5, alpha=0.99, total=  37.4s\n",
      "[CV] subsample=0.9500000000000001, n_estimators=200, min_samples_split=5, min_samples_leaf=7, max_features=0.6000000000000001, max_depth=3, loss=quantile, learning_rate=0.5, alpha=0.99 \n",
      "[CV]  subsample=0.9500000000000001, n_estimators=200, min_samples_split=5, min_samples_leaf=7, max_features=0.6000000000000001, max_depth=3, loss=quantile, learning_rate=0.5, alpha=0.99, total= 1.5min\n",
      "[CV] subsample=0.9500000000000001, n_estimators=200, min_samples_split=5, min_samples_leaf=7, max_features=0.6000000000000001, max_depth=3, loss=quantile, learning_rate=0.5, alpha=0.99 \n",
      "[CV]  subsample=0.9500000000000001, n_estimators=200, min_samples_split=5, min_samples_leaf=7, max_features=0.6000000000000001, max_depth=3, loss=quantile, learning_rate=0.5, alpha=0.99, total= 2.7min\n",
      "[CV] subsample=0.9500000000000001, n_estimators=200, min_samples_split=5, min_samples_leaf=7, max_features=0.6000000000000001, max_depth=3, loss=quantile, learning_rate=0.5, alpha=0.99 \n",
      "[CV]  subsample=0.9500000000000001, n_estimators=200, min_samples_split=5, min_samples_leaf=7, max_features=0.6000000000000001, max_depth=3, loss=quantile, learning_rate=0.5, alpha=0.99, total= 4.3min\n",
      "[CV] subsample=0.2, n_estimators=100, min_samples_split=5, min_samples_leaf=3, max_features=0.4, max_depth=6, loss=huber, learning_rate=0.01, alpha=0.9 \n",
      "[CV]  subsample=0.2, n_estimators=100, min_samples_split=5, min_samples_leaf=3, max_features=0.4, max_depth=6, loss=huber, learning_rate=0.01, alpha=0.9, total=  29.5s\n",
      "[CV] subsample=0.2, n_estimators=100, min_samples_split=5, min_samples_leaf=3, max_features=0.4, max_depth=6, loss=huber, learning_rate=0.01, alpha=0.9 \n",
      "[CV]  subsample=0.2, n_estimators=100, min_samples_split=5, min_samples_leaf=3, max_features=0.4, max_depth=6, loss=huber, learning_rate=0.01, alpha=0.9, total= 1.1min\n",
      "[CV] subsample=0.2, n_estimators=100, min_samples_split=5, min_samples_leaf=3, max_features=0.4, max_depth=6, loss=huber, learning_rate=0.01, alpha=0.9 \n",
      "[CV]  subsample=0.2, n_estimators=100, min_samples_split=5, min_samples_leaf=3, max_features=0.4, max_depth=6, loss=huber, learning_rate=0.01, alpha=0.9, total= 1.8min\n",
      "[CV] subsample=0.2, n_estimators=100, min_samples_split=5, min_samples_leaf=3, max_features=0.4, max_depth=6, loss=huber, learning_rate=0.01, alpha=0.9 \n",
      "[CV]  subsample=0.2, n_estimators=100, min_samples_split=5, min_samples_leaf=3, max_features=0.4, max_depth=6, loss=huber, learning_rate=0.01, alpha=0.9, total= 2.9min\n",
      "[CV] subsample=0.8, n_estimators=200, min_samples_split=6, min_samples_leaf=13, max_features=0.7000000000000001, max_depth=2, loss=lad, learning_rate=0.5, alpha=0.95 \n",
      "[CV]  subsample=0.8, n_estimators=200, min_samples_split=6, min_samples_leaf=13, max_features=0.7000000000000001, max_depth=2, loss=lad, learning_rate=0.5, alpha=0.95, total=  28.1s\n",
      "[CV] subsample=0.8, n_estimators=200, min_samples_split=6, min_samples_leaf=13, max_features=0.7000000000000001, max_depth=2, loss=lad, learning_rate=0.5, alpha=0.95 \n",
      "[CV]  subsample=0.8, n_estimators=200, min_samples_split=6, min_samples_leaf=13, max_features=0.7000000000000001, max_depth=2, loss=lad, learning_rate=0.5, alpha=0.95, total= 1.2min\n",
      "[CV] subsample=0.8, n_estimators=200, min_samples_split=6, min_samples_leaf=13, max_features=0.7000000000000001, max_depth=2, loss=lad, learning_rate=0.5, alpha=0.95 \n",
      "[CV]  subsample=0.8, n_estimators=200, min_samples_split=6, min_samples_leaf=13, max_features=0.7000000000000001, max_depth=2, loss=lad, learning_rate=0.5, alpha=0.95, total= 2.0min\n",
      "[CV] subsample=0.8, n_estimators=200, min_samples_split=6, min_samples_leaf=13, max_features=0.7000000000000001, max_depth=2, loss=lad, learning_rate=0.5, alpha=0.95 \n",
      "[CV]  subsample=0.8, n_estimators=200, min_samples_split=6, min_samples_leaf=13, max_features=0.7000000000000001, max_depth=2, loss=lad, learning_rate=0.5, alpha=0.95, total= 2.9min\n",
      "[CV] subsample=0.3, n_estimators=200, min_samples_split=8, min_samples_leaf=10, max_features=0.9500000000000001, max_depth=7, loss=quantile, learning_rate=1.0, alpha=0.95 \n",
      "[CV]  subsample=0.3, n_estimators=200, min_samples_split=8, min_samples_leaf=10, max_features=0.9500000000000001, max_depth=7, loss=quantile, learning_rate=1.0, alpha=0.95, total= 3.1min\n",
      "[CV] subsample=0.3, n_estimators=200, min_samples_split=8, min_samples_leaf=10, max_features=0.9500000000000001, max_depth=7, loss=quantile, learning_rate=1.0, alpha=0.95 \n",
      "[CV]  subsample=0.3, n_estimators=200, min_samples_split=8, min_samples_leaf=10, max_features=0.9500000000000001, max_depth=7, loss=quantile, learning_rate=1.0, alpha=0.95, total= 7.4min\n",
      "[CV] subsample=0.3, n_estimators=200, min_samples_split=8, min_samples_leaf=10, max_features=0.9500000000000001, max_depth=7, loss=quantile, learning_rate=1.0, alpha=0.95 \n",
      "[CV]  subsample=0.3, n_estimators=200, min_samples_split=8, min_samples_leaf=10, max_features=0.9500000000000001, max_depth=7, loss=quantile, learning_rate=1.0, alpha=0.95, total=11.8min\n",
      "[CV] subsample=0.3, n_estimators=200, min_samples_split=8, min_samples_leaf=10, max_features=0.9500000000000001, max_depth=7, loss=quantile, learning_rate=1.0, alpha=0.95 \n",
      "[CV]  subsample=0.3, n_estimators=200, min_samples_split=8, min_samples_leaf=10, max_features=0.9500000000000001, max_depth=7, loss=quantile, learning_rate=1.0, alpha=0.95, total=18.5min\n",
      "[CV] subsample=1.0, n_estimators=200, min_samples_split=7, min_samples_leaf=2, max_features=0.7000000000000001, max_depth=1, loss=quantile, learning_rate=0.5, alpha=0.75 \n",
      "[CV]  subsample=1.0, n_estimators=200, min_samples_split=7, min_samples_leaf=2, max_features=0.7000000000000001, max_depth=1, loss=quantile, learning_rate=0.5, alpha=0.75, total=  17.3s\n",
      "[CV] subsample=1.0, n_estimators=200, min_samples_split=7, min_samples_leaf=2, max_features=0.7000000000000001, max_depth=1, loss=quantile, learning_rate=0.5, alpha=0.75 \n",
      "[CV]  subsample=1.0, n_estimators=200, min_samples_split=7, min_samples_leaf=2, max_features=0.7000000000000001, max_depth=1, loss=quantile, learning_rate=0.5, alpha=0.75, total=  41.1s\n",
      "[CV] subsample=1.0, n_estimators=200, min_samples_split=7, min_samples_leaf=2, max_features=0.7000000000000001, max_depth=1, loss=quantile, learning_rate=0.5, alpha=0.75 \n",
      "[CV]  subsample=1.0, n_estimators=200, min_samples_split=7, min_samples_leaf=2, max_features=0.7000000000000001, max_depth=1, loss=quantile, learning_rate=0.5, alpha=0.75, total= 1.1min\n",
      "[CV] subsample=1.0, n_estimators=200, min_samples_split=7, min_samples_leaf=2, max_features=0.7000000000000001, max_depth=1, loss=quantile, learning_rate=0.5, alpha=0.75 \n",
      "[CV]  subsample=1.0, n_estimators=200, min_samples_split=7, min_samples_leaf=2, max_features=0.7000000000000001, max_depth=1, loss=quantile, learning_rate=0.5, alpha=0.75, total= 1.7min\n",
      "[CV] subsample=0.8, n_estimators=200, min_samples_split=14, min_samples_leaf=14, max_features=0.8500000000000001, max_depth=8, loss=ls, learning_rate=0.5, alpha=0.75 \n",
      "[CV]  subsample=0.8, n_estimators=200, min_samples_split=14, min_samples_leaf=14, max_features=0.8500000000000001, max_depth=8, loss=ls, learning_rate=0.5, alpha=0.75, total= 4.6min\n",
      "[CV] subsample=0.8, n_estimators=200, min_samples_split=14, min_samples_leaf=14, max_features=0.8500000000000001, max_depth=8, loss=ls, learning_rate=0.5, alpha=0.75 \n",
      "[CV]  subsample=0.8, n_estimators=200, min_samples_split=14, min_samples_leaf=14, max_features=0.8500000000000001, max_depth=8, loss=ls, learning_rate=0.5, alpha=0.75, total=11.0min\n",
      "[CV] subsample=0.8, n_estimators=200, min_samples_split=14, min_samples_leaf=14, max_features=0.8500000000000001, max_depth=8, loss=ls, learning_rate=0.5, alpha=0.75 \n",
      "[CV]  subsample=0.8, n_estimators=200, min_samples_split=14, min_samples_leaf=14, max_features=0.8500000000000001, max_depth=8, loss=ls, learning_rate=0.5, alpha=0.75, total=17.3min\n",
      "[CV] subsample=0.8, n_estimators=200, min_samples_split=14, min_samples_leaf=14, max_features=0.8500000000000001, max_depth=8, loss=ls, learning_rate=0.5, alpha=0.75 \n",
      "[CV]  subsample=0.8, n_estimators=200, min_samples_split=14, min_samples_leaf=14, max_features=0.8500000000000001, max_depth=8, loss=ls, learning_rate=0.5, alpha=0.75, total=29.1min\n",
      "[CV] subsample=0.6500000000000001, n_estimators=100, min_samples_split=15, min_samples_leaf=19, max_features=0.9500000000000001, max_depth=1, loss=huber, learning_rate=1.0, alpha=0.9 \n",
      "[CV]  subsample=0.6500000000000001, n_estimators=100, min_samples_split=15, min_samples_leaf=19, max_features=0.9500000000000001, max_depth=1, loss=huber, learning_rate=1.0, alpha=0.9, total=  12.0s\n",
      "[CV] subsample=0.6500000000000001, n_estimators=100, min_samples_split=15, min_samples_leaf=19, max_features=0.9500000000000001, max_depth=1, loss=huber, learning_rate=1.0, alpha=0.9 \n",
      "[CV]  subsample=0.6500000000000001, n_estimators=100, min_samples_split=15, min_samples_leaf=19, max_features=0.9500000000000001, max_depth=1, loss=huber, learning_rate=1.0, alpha=0.9, total=  28.0s\n",
      "[CV] subsample=0.6500000000000001, n_estimators=100, min_samples_split=15, min_samples_leaf=19, max_features=0.9500000000000001, max_depth=1, loss=huber, learning_rate=1.0, alpha=0.9 \n",
      "[CV]  subsample=0.6500000000000001, n_estimators=100, min_samples_split=15, min_samples_leaf=19, max_features=0.9500000000000001, max_depth=1, loss=huber, learning_rate=1.0, alpha=0.9, total=  46.2s\n",
      "[CV] subsample=0.6500000000000001, n_estimators=100, min_samples_split=15, min_samples_leaf=19, max_features=0.9500000000000001, max_depth=1, loss=huber, learning_rate=1.0, alpha=0.9 \n",
      "[CV]  subsample=0.6500000000000001, n_estimators=100, min_samples_split=15, min_samples_leaf=19, max_features=0.9500000000000001, max_depth=1, loss=huber, learning_rate=1.0, alpha=0.9, total= 1.1min\n",
      "[CV] subsample=0.6000000000000001, n_estimators=200, min_samples_split=14, min_samples_leaf=3, max_features=0.6000000000000001, max_depth=7, loss=lad, learning_rate=0.5, alpha=0.95 \n",
      "[CV]  subsample=0.6000000000000001, n_estimators=200, min_samples_split=14, min_samples_leaf=3, max_features=0.6000000000000001, max_depth=7, loss=lad, learning_rate=0.5, alpha=0.95, total= 2.7min\n",
      "[CV] subsample=0.6000000000000001, n_estimators=200, min_samples_split=14, min_samples_leaf=3, max_features=0.6000000000000001, max_depth=7, loss=lad, learning_rate=0.5, alpha=0.95 \n",
      "[CV]  subsample=0.6000000000000001, n_estimators=200, min_samples_split=14, min_samples_leaf=3, max_features=0.6000000000000001, max_depth=7, loss=lad, learning_rate=0.5, alpha=0.95, total= 5.5min\n",
      "[CV] subsample=0.6000000000000001, n_estimators=200, min_samples_split=14, min_samples_leaf=3, max_features=0.6000000000000001, max_depth=7, loss=lad, learning_rate=0.5, alpha=0.95 \n",
      "[CV]  subsample=0.6000000000000001, n_estimators=200, min_samples_split=14, min_samples_leaf=3, max_features=0.6000000000000001, max_depth=7, loss=lad, learning_rate=0.5, alpha=0.95, total= 9.8min\n",
      "[CV] subsample=0.6000000000000001, n_estimators=200, min_samples_split=14, min_samples_leaf=3, max_features=0.6000000000000001, max_depth=7, loss=lad, learning_rate=0.5, alpha=0.95 \n",
      "[CV]  subsample=0.6000000000000001, n_estimators=200, min_samples_split=14, min_samples_leaf=3, max_features=0.6000000000000001, max_depth=7, loss=lad, learning_rate=0.5, alpha=0.95, total=13.7min\n",
      "[CV] subsample=0.05, n_estimators=100, min_samples_split=17, min_samples_leaf=11, max_features=0.3, max_depth=4, loss=huber, learning_rate=0.1, alpha=0.95 \n",
      "[CV]  subsample=0.05, n_estimators=100, min_samples_split=17, min_samples_leaf=11, max_features=0.3, max_depth=4, loss=huber, learning_rate=0.1, alpha=0.95, total=   9.8s\n",
      "[CV] subsample=0.05, n_estimators=100, min_samples_split=17, min_samples_leaf=11, max_features=0.3, max_depth=4, loss=huber, learning_rate=0.1, alpha=0.95 \n",
      "[CV]  subsample=0.05, n_estimators=100, min_samples_split=17, min_samples_leaf=11, max_features=0.3, max_depth=4, loss=huber, learning_rate=0.1, alpha=0.95, total=  21.9s\n",
      "[CV] subsample=0.05, n_estimators=100, min_samples_split=17, min_samples_leaf=11, max_features=0.3, max_depth=4, loss=huber, learning_rate=0.1, alpha=0.95 \n",
      "[CV]  subsample=0.05, n_estimators=100, min_samples_split=17, min_samples_leaf=11, max_features=0.3, max_depth=4, loss=huber, learning_rate=0.1, alpha=0.95, total=  33.9s\n",
      "[CV] subsample=0.05, n_estimators=100, min_samples_split=17, min_samples_leaf=11, max_features=0.3, max_depth=4, loss=huber, learning_rate=0.1, alpha=0.95 \n",
      "[CV]  subsample=0.05, n_estimators=100, min_samples_split=17, min_samples_leaf=11, max_features=0.3, max_depth=4, loss=huber, learning_rate=0.1, alpha=0.95, total=  52.7s\n",
      "[CV] subsample=0.5, n_estimators=100, min_samples_split=4, min_samples_leaf=15, max_features=0.6000000000000001, max_depth=6, loss=quantile, learning_rate=0.1, alpha=0.85 \n",
      "[CV]  subsample=0.5, n_estimators=100, min_samples_split=4, min_samples_leaf=15, max_features=0.6000000000000001, max_depth=6, loss=quantile, learning_rate=0.1, alpha=0.85, total=  45.2s\n",
      "[CV] subsample=0.5, n_estimators=100, min_samples_split=4, min_samples_leaf=15, max_features=0.6000000000000001, max_depth=6, loss=quantile, learning_rate=0.1, alpha=0.85 \n",
      "[CV]  subsample=0.5, n_estimators=100, min_samples_split=4, min_samples_leaf=15, max_features=0.6000000000000001, max_depth=6, loss=quantile, learning_rate=0.1, alpha=0.85, total= 1.8min\n",
      "[CV] subsample=0.5, n_estimators=100, min_samples_split=4, min_samples_leaf=15, max_features=0.6000000000000001, max_depth=6, loss=quantile, learning_rate=0.1, alpha=0.85 \n",
      "[CV]  subsample=0.5, n_estimators=100, min_samples_split=4, min_samples_leaf=15, max_features=0.6000000000000001, max_depth=6, loss=quantile, learning_rate=0.1, alpha=0.85, total= 3.1min\n",
      "[CV] subsample=0.5, n_estimators=100, min_samples_split=4, min_samples_leaf=15, max_features=0.6000000000000001, max_depth=6, loss=quantile, learning_rate=0.1, alpha=0.85 \n",
      "[CV]  subsample=0.5, n_estimators=100, min_samples_split=4, min_samples_leaf=15, max_features=0.6000000000000001, max_depth=6, loss=quantile, learning_rate=0.1, alpha=0.85, total= 4.6min\n",
      "[CV] subsample=0.45, n_estimators=100, min_samples_split=17, min_samples_leaf=1, max_features=0.2, max_depth=1, loss=lad, learning_rate=1.0, alpha=0.75 \n",
      "[CV]  subsample=0.45, n_estimators=100, min_samples_split=17, min_samples_leaf=1, max_features=0.2, max_depth=1, loss=lad, learning_rate=1.0, alpha=0.75, total=   4.2s\n",
      "[CV] subsample=0.45, n_estimators=100, min_samples_split=17, min_samples_leaf=1, max_features=0.2, max_depth=1, loss=lad, learning_rate=1.0, alpha=0.75 \n",
      "[CV]  subsample=0.45, n_estimators=100, min_samples_split=17, min_samples_leaf=1, max_features=0.2, max_depth=1, loss=lad, learning_rate=1.0, alpha=0.75, total=   9.4s\n",
      "[CV] subsample=0.45, n_estimators=100, min_samples_split=17, min_samples_leaf=1, max_features=0.2, max_depth=1, loss=lad, learning_rate=1.0, alpha=0.75 \n",
      "[CV]  subsample=0.45, n_estimators=100, min_samples_split=17, min_samples_leaf=1, max_features=0.2, max_depth=1, loss=lad, learning_rate=1.0, alpha=0.75, total=  15.7s\n",
      "[CV] subsample=0.45, n_estimators=100, min_samples_split=17, min_samples_leaf=1, max_features=0.2, max_depth=1, loss=lad, learning_rate=1.0, alpha=0.75 \n",
      "[CV]  subsample=0.45, n_estimators=100, min_samples_split=17, min_samples_leaf=1, max_features=0.2, max_depth=1, loss=lad, learning_rate=1.0, alpha=0.75, total=  21.7s\n",
      "[CV] subsample=1.0, n_estimators=200, min_samples_split=12, min_samples_leaf=7, max_features=0.3, max_depth=1, loss=lad, learning_rate=0.1, alpha=0.95 \n",
      "[CV]  subsample=1.0, n_estimators=200, min_samples_split=12, min_samples_leaf=7, max_features=0.3, max_depth=1, loss=lad, learning_rate=0.1, alpha=0.95, total=   9.1s\n",
      "[CV] subsample=1.0, n_estimators=200, min_samples_split=12, min_samples_leaf=7, max_features=0.3, max_depth=1, loss=lad, learning_rate=0.1, alpha=0.95 \n",
      "[CV]  subsample=1.0, n_estimators=200, min_samples_split=12, min_samples_leaf=7, max_features=0.3, max_depth=1, loss=lad, learning_rate=0.1, alpha=0.95, total=  20.9s\n",
      "[CV] subsample=1.0, n_estimators=200, min_samples_split=12, min_samples_leaf=7, max_features=0.3, max_depth=1, loss=lad, learning_rate=0.1, alpha=0.95 \n",
      "[CV]  subsample=1.0, n_estimators=200, min_samples_split=12, min_samples_leaf=7, max_features=0.3, max_depth=1, loss=lad, learning_rate=0.1, alpha=0.95, total=  38.3s\n",
      "[CV] subsample=1.0, n_estimators=200, min_samples_split=12, min_samples_leaf=7, max_features=0.3, max_depth=1, loss=lad, learning_rate=0.1, alpha=0.95 \n",
      "[CV]  subsample=1.0, n_estimators=200, min_samples_split=12, min_samples_leaf=7, max_features=0.3, max_depth=1, loss=lad, learning_rate=0.1, alpha=0.95, total= 1.1min\n",
      "[CV] subsample=0.05, n_estimators=400, min_samples_split=17, min_samples_leaf=6, max_features=0.1, max_depth=4, loss=quantile, learning_rate=1.0, alpha=0.99 \n",
      "[CV]  subsample=0.05, n_estimators=400, min_samples_split=17, min_samples_leaf=6, max_features=0.1, max_depth=4, loss=quantile, learning_rate=1.0, alpha=0.99, total=  14.4s\n",
      "[CV] subsample=0.05, n_estimators=400, min_samples_split=17, min_samples_leaf=6, max_features=0.1, max_depth=4, loss=quantile, learning_rate=1.0, alpha=0.99 \n"
     ]
    }
   ],
   "source": [
    "tpot.fit(X_train, y_train)"
   ]
  },
  {
   "cell_type": "code",
   "execution_count": null,
   "metadata": {},
   "outputs": [],
   "source": [
    "# top_scores = tpot.get_top_models(return_scores=True)\n",
    "# print('\\ntop cv scores:')\n",
    "# print(top_scores)\n",
    "# print('\\ntop models')\n",
    "# print(tpot.top_models)\n",
    "# print('\\nthe best test score:')\n",
    "test_score = tpot.score(X_test, y_test)\n",
    "print(test_score)"
   ]
  },
  {
   "cell_type": "code",
   "execution_count": null,
   "metadata": {},
   "outputs": [],
   "source": [
    "rmse = np.sqrt(np.mean((tpot.predict(X_test) - y_test) ** 2))\n",
    "rmse"
   ]
  },
  {
   "cell_type": "code",
   "execution_count": null,
   "metadata": {},
   "outputs": [],
   "source": [
    "plt.hist(tpot.predict(X_test), log=True, bins=100)\n",
    "print(tpot.predict(X_test).mean())\n",
    "print(y_test.mean())"
   ]
  },
  {
   "cell_type": "code",
   "execution_count": null,
   "metadata": {},
   "outputs": [],
   "source": [
    "from analysis import Analysis\n",
    "ea = Analysis(tpot, X_train, y_train, X_test, y_test,\n",
    "                           mode='regression', target=target,\n",
    "                           features=all_train.drop(target, axis=1).columns,\n",
    "                           test_samples_index=test_index, random_state=RS)"
   ]
  },
  {
   "cell_type": "code",
   "execution_count": null,
   "metadata": {},
   "outputs": [],
   "source": [
    "ea.get_feature_importance(sort=True)"
   ]
  },
  {
   "cell_type": "code",
   "execution_count": null,
   "metadata": {},
   "outputs": [],
   "source": [
    "# Best pipeline: XGBRegressor(FastICA(input_matrix, tol=0.7000000000000001), learning_rate=0.1, max_depth=2, min_child_weight=5, n_estimators=100, nthread=1, subsample=1.0)"
   ]
  },
  {
   "cell_type": "code",
   "execution_count": null,
   "metadata": {},
   "outputs": [],
   "source": [
    "test = pd.read_csv('data/test.csv', usecols=['item_id', 'user_id', 'activation_date'],\n",
    "                   parse_dates=['activation_date'], infer_datetime_format=True)"
   ]
  },
  {
   "cell_type": "code",
   "execution_count": null,
   "metadata": {},
   "outputs": [],
   "source": [
    "all_test = test.merge(periods_aggregate, how='left', on='user_id')"
   ]
  },
  {
   "cell_type": "code",
   "execution_count": null,
   "metadata": {},
   "outputs": [],
   "source": [
    "all_test = all_test.dropna()"
   ]
  },
  {
   "cell_type": "code",
   "execution_count": null,
   "metadata": {},
   "outputs": [],
   "source": [
    "all_test = all_test.rename(columns={'activation_date': 'item_activation_date'})\n",
    "all_test = featurize_date_col(all_test, 'item_activation_date', remove_when_done=True)"
   ]
  },
  {
   "cell_type": "code",
   "execution_count": null,
   "metadata": {},
   "outputs": [],
   "source": [
    "all_test = all_test.set_index('item_id').drop('user_id', axis=1)"
   ]
  },
  {
   "cell_type": "code",
   "execution_count": null,
   "metadata": {},
   "outputs": [],
   "source": [
    "all_test.shape"
   ]
  },
  {
   "cell_type": "code",
   "execution_count": null,
   "metadata": {},
   "outputs": [],
   "source": [
    "all_test['deal_probability'] = tpot.predict(all_test.values)"
   ]
  },
  {
   "cell_type": "code",
   "execution_count": null,
   "metadata": {},
   "outputs": [],
   "source": [
    "all_test[['deal_probability']].to_csv('predictions/periods.csv')"
   ]
  },
  {
   "cell_type": "code",
   "execution_count": null,
   "metadata": {},
   "outputs": [],
   "source": []
  }
 ],
 "metadata": {
  "kernelspec": {
   "display_name": "Python 3",
   "language": "python",
   "name": "python3"
  },
  "language_info": {
   "codemirror_mode": {
    "name": "ipython",
    "version": 3
   },
   "file_extension": ".py",
   "mimetype": "text/x-python",
   "name": "python",
   "nbconvert_exporter": "python",
   "pygments_lexer": "ipython3",
   "version": "3.6.4"
  }
 },
 "nbformat": 4,
 "nbformat_minor": 2
}
