{
 "cells": [
  {
   "cell_type": "markdown",
   "metadata": {},
   "source": [
    "# Periods Data Feature Extraction\n",
    "\n",
    "This module help extract features from \"periods_train.csv\" or \"periods_test.csv\" such as is_holiday, wday (weekday), etc for final training of the model given an item_id."
   ]
  },
  {
   "cell_type": "markdown",
   "metadata": {},
   "source": [
    "## Note: \n",
    "This is a practice notebook. For the result"
   ]
  },
  {
   "cell_type": "code",
   "execution_count": 15,
   "metadata": {},
   "outputs": [],
   "source": [
    "import pandas as pd\n",
    "import sqlite3\n",
    "from sqlalchemy.engine import create_engine\n",
    "import numpy as np\n",
    "import matplotlib.pyplot as plt\n",
    "from sklearn import datasets\n",
    "from sklearn import preprocessing\n",
    "from time import time\n",
    "from utils import featurize_date_col, is_russian_2017_holiday\n",
    "\n",
    "pd.options.mode.chained_assignment = None\n",
    "%matplotlib inline"
   ]
  },
  {
   "cell_type": "code",
   "execution_count": 2,
   "metadata": {},
   "outputs": [
    {
     "name": "stdout",
     "output_type": "stream",
     "text": [
      "it took 29.799591779708862 seconds\n"
     ]
    }
   ],
   "source": [
    "# avito = sqlite3.connect(\"data/avito.db\")\n",
    "start_time = time()\n",
    "# either:\n",
    "# 1) (only the read_csv parts take 30 seconds)\n",
    "train = pd.read_csv('data/periods_train.csv')\n",
    "# train.to_sql('periods_train', avito)\n",
    "test = pd.read_csv('data/periods_test.csv')\n",
    "# test.to_sql('periods_test', avito)\n",
    "\n",
    "# or 2) (it took 120 seconds)\n",
    "# train = pd.read_sql('SELECT * from periods_train', avito, index_col='item_id')\n",
    "# test = pd.read_sql('SELECT * from periods_test', avito, index_col='item_id')\n",
    "\n",
    "print('it took {} seconds'.format(time() - start_time))"
   ]
  },
  {
   "cell_type": "code",
   "execution_count": 40,
   "metadata": {},
   "outputs": [],
   "source": [
    "train[1000000:1500000].to_csv('data/periods_train_500000.csv')"
   ]
  },
  {
   "cell_type": "code",
   "execution_count": 3,
   "metadata": {},
   "outputs": [
    {
     "data": {
      "text/html": [
       "<div>\n",
       "<style scoped>\n",
       "    .dataframe tbody tr th:only-of-type {\n",
       "        vertical-align: middle;\n",
       "    }\n",
       "\n",
       "    .dataframe tbody tr th {\n",
       "        vertical-align: top;\n",
       "    }\n",
       "\n",
       "    .dataframe thead th {\n",
       "        text-align: right;\n",
       "    }\n",
       "</style>\n",
       "<table border=\"1\" class=\"dataframe\">\n",
       "  <thead>\n",
       "    <tr style=\"text-align: right;\">\n",
       "      <th></th>\n",
       "      <th>item_id</th>\n",
       "      <th>activation_date</th>\n",
       "      <th>date_from</th>\n",
       "      <th>date_to</th>\n",
       "    </tr>\n",
       "  </thead>\n",
       "  <tbody>\n",
       "    <tr>\n",
       "      <th>0</th>\n",
       "      <td>8f5caef7afb0</td>\n",
       "      <td>2017-02-14</td>\n",
       "      <td>2017-03-15</td>\n",
       "      <td>2017-03-16</td>\n",
       "    </tr>\n",
       "    <tr>\n",
       "      <th>1</th>\n",
       "      <td>66218ff526d1</td>\n",
       "      <td>2017-02-16</td>\n",
       "      <td>2017-03-15</td>\n",
       "      <td>2017-03-18</td>\n",
       "    </tr>\n",
       "    <tr>\n",
       "      <th>2</th>\n",
       "      <td>b237d9539b21</td>\n",
       "      <td>2017-03-01</td>\n",
       "      <td>2017-03-15</td>\n",
       "      <td>2017-03-28</td>\n",
       "    </tr>\n",
       "    <tr>\n",
       "      <th>3</th>\n",
       "      <td>80bf58082ad3</td>\n",
       "      <td>2017-03-19</td>\n",
       "      <td>2017-03-19</td>\n",
       "      <td>2017-03-28</td>\n",
       "    </tr>\n",
       "    <tr>\n",
       "      <th>4</th>\n",
       "      <td>67a9944a7373</td>\n",
       "      <td>2017-03-14</td>\n",
       "      <td>2017-03-15</td>\n",
       "      <td>2017-03-28</td>\n",
       "    </tr>\n",
       "  </tbody>\n",
       "</table>\n",
       "</div>"
      ],
      "text/plain": [
       "        item_id activation_date   date_from     date_to\n",
       "0  8f5caef7afb0      2017-02-14  2017-03-15  2017-03-16\n",
       "1  66218ff526d1      2017-02-16  2017-03-15  2017-03-18\n",
       "2  b237d9539b21      2017-03-01  2017-03-15  2017-03-28\n",
       "3  80bf58082ad3      2017-03-19  2017-03-19  2017-03-28\n",
       "4  67a9944a7373      2017-03-14  2017-03-15  2017-03-28"
      ]
     },
     "execution_count": 3,
     "metadata": {},
     "output_type": "execute_result"
    }
   ],
   "source": [
    "train.head()"
   ]
  },
  {
   "cell_type": "code",
   "execution_count": 37,
   "metadata": {},
   "outputs": [],
   "source": [
    "df = train[1000000:1500000]"
   ]
  },
  {
   "cell_type": "code",
   "execution_count": 38,
   "metadata": {},
   "outputs": [],
   "source": [
    "null_idx = df['activation_date'].isnull()\n",
    "df['activation_date'].loc[null_idx] = df['date_from'].loc[null_idx]"
   ]
  },
  {
   "cell_type": "code",
   "execution_count": 39,
   "metadata": {},
   "outputs": [
    {
     "data": {
      "text/plain": [
       "497384"
      ]
     },
     "execution_count": 39,
     "metadata": {},
     "output_type": "execute_result"
    }
   ],
   "source": [
    "len(df['item_id'].unique())"
   ]
  },
  {
   "cell_type": "code",
   "execution_count": 7,
   "metadata": {},
   "outputs": [],
   "source": [
    "temp = df[df['item_id'].duplicated()]"
   ]
  },
  {
   "cell_type": "code",
   "execution_count": 8,
   "metadata": {},
   "outputs": [],
   "source": [
    "dft = df[df['item_id'].isin(temp['item_id'])]"
   ]
  },
  {
   "cell_type": "code",
   "execution_count": 9,
   "metadata": {},
   "outputs": [],
   "source": [
    "observe_ids = dft['item_id']"
   ]
  },
  {
   "cell_type": "markdown",
   "metadata": {},
   "source": [
    "## initial preparation and sanity checks"
   ]
  },
  {
   "cell_type": "code",
   "execution_count": 10,
   "metadata": {},
   "outputs": [],
   "source": [
    "for col in ['activation_date', 'date_from', 'date_to']:\n",
    "    df[col] = pd.to_datetime(df[col], format='%Y-%m-%d')"
   ]
  },
  {
   "cell_type": "code",
   "execution_count": 11,
   "metadata": {},
   "outputs": [],
   "source": [
    "assert (df['date_to'] >= df['date_from']).all()"
   ]
  },
  {
   "cell_type": "code",
   "execution_count": 12,
   "metadata": {},
   "outputs": [],
   "source": [
    "assert (df['date_from'] >= df['activation_date']).all()"
   ]
  },
  {
   "cell_type": "markdown",
   "metadata": {},
   "source": [
    "## Feature generation"
   ]
  },
  {
   "cell_type": "code",
   "execution_count": 13,
   "metadata": {},
   "outputs": [],
   "source": [
    "df['days_to_publish'] = (df['date_from'] - df['activation_date']).dt.days"
   ]
  },
  {
   "cell_type": "code",
   "execution_count": 14,
   "metadata": {},
   "outputs": [],
   "source": [
    "df['days_online'] = (df['date_to'] - df['date_from']).dt.days"
   ]
  },
  {
   "cell_type": "code",
   "execution_count": 16,
   "metadata": {},
   "outputs": [],
   "source": [
    "for col in ['activation_date', 'date_from', 'date_to']:\n",
    "    df = featurize_date_col(df, col, remove_when_done=False)"
   ]
  },
  {
   "cell_type": "code",
   "execution_count": 17,
   "metadata": {},
   "outputs": [
    {
     "data": {
      "text/html": [
       "<div>\n",
       "<style scoped>\n",
       "    .dataframe tbody tr th:only-of-type {\n",
       "        vertical-align: middle;\n",
       "    }\n",
       "\n",
       "    .dataframe tbody tr th {\n",
       "        vertical-align: top;\n",
       "    }\n",
       "\n",
       "    .dataframe thead th {\n",
       "        text-align: right;\n",
       "    }\n",
       "</style>\n",
       "<table border=\"1\" class=\"dataframe\">\n",
       "  <thead>\n",
       "    <tr style=\"text-align: right;\">\n",
       "      <th></th>\n",
       "      <th>item_id</th>\n",
       "      <th>activation_date</th>\n",
       "      <th>date_from</th>\n",
       "      <th>date_to</th>\n",
       "      <th>days_to_publish</th>\n",
       "      <th>days_online</th>\n",
       "      <th>activation_date_isholiday</th>\n",
       "      <th>activation_date_wday</th>\n",
       "      <th>activation_date_yday</th>\n",
       "      <th>date_from_isholiday</th>\n",
       "      <th>date_from_wday</th>\n",
       "      <th>date_from_yday</th>\n",
       "      <th>date_to_isholiday</th>\n",
       "      <th>date_to_wday</th>\n",
       "      <th>date_to_yday</th>\n",
       "    </tr>\n",
       "  </thead>\n",
       "  <tbody>\n",
       "    <tr>\n",
       "      <th>0</th>\n",
       "      <td>8f5caef7afb0</td>\n",
       "      <td>2017-02-14</td>\n",
       "      <td>2017-03-15</td>\n",
       "      <td>2017-03-16</td>\n",
       "      <td>29</td>\n",
       "      <td>1</td>\n",
       "      <td>0</td>\n",
       "      <td>1</td>\n",
       "      <td>45</td>\n",
       "      <td>0</td>\n",
       "      <td>2</td>\n",
       "      <td>74</td>\n",
       "      <td>0</td>\n",
       "      <td>3</td>\n",
       "      <td>75</td>\n",
       "    </tr>\n",
       "    <tr>\n",
       "      <th>1</th>\n",
       "      <td>66218ff526d1</td>\n",
       "      <td>2017-02-16</td>\n",
       "      <td>2017-03-15</td>\n",
       "      <td>2017-03-18</td>\n",
       "      <td>27</td>\n",
       "      <td>3</td>\n",
       "      <td>0</td>\n",
       "      <td>3</td>\n",
       "      <td>47</td>\n",
       "      <td>0</td>\n",
       "      <td>2</td>\n",
       "      <td>74</td>\n",
       "      <td>0</td>\n",
       "      <td>5</td>\n",
       "      <td>77</td>\n",
       "    </tr>\n",
       "    <tr>\n",
       "      <th>2</th>\n",
       "      <td>b237d9539b21</td>\n",
       "      <td>2017-03-01</td>\n",
       "      <td>2017-03-15</td>\n",
       "      <td>2017-03-28</td>\n",
       "      <td>14</td>\n",
       "      <td>13</td>\n",
       "      <td>0</td>\n",
       "      <td>2</td>\n",
       "      <td>60</td>\n",
       "      <td>0</td>\n",
       "      <td>2</td>\n",
       "      <td>74</td>\n",
       "      <td>0</td>\n",
       "      <td>1</td>\n",
       "      <td>87</td>\n",
       "    </tr>\n",
       "    <tr>\n",
       "      <th>3</th>\n",
       "      <td>80bf58082ad3</td>\n",
       "      <td>2017-03-19</td>\n",
       "      <td>2017-03-19</td>\n",
       "      <td>2017-03-28</td>\n",
       "      <td>0</td>\n",
       "      <td>9</td>\n",
       "      <td>0</td>\n",
       "      <td>6</td>\n",
       "      <td>78</td>\n",
       "      <td>0</td>\n",
       "      <td>6</td>\n",
       "      <td>78</td>\n",
       "      <td>0</td>\n",
       "      <td>1</td>\n",
       "      <td>87</td>\n",
       "    </tr>\n",
       "    <tr>\n",
       "      <th>4</th>\n",
       "      <td>67a9944a7373</td>\n",
       "      <td>2017-03-14</td>\n",
       "      <td>2017-03-15</td>\n",
       "      <td>2017-03-28</td>\n",
       "      <td>1</td>\n",
       "      <td>13</td>\n",
       "      <td>0</td>\n",
       "      <td>1</td>\n",
       "      <td>73</td>\n",
       "      <td>0</td>\n",
       "      <td>2</td>\n",
       "      <td>74</td>\n",
       "      <td>0</td>\n",
       "      <td>1</td>\n",
       "      <td>87</td>\n",
       "    </tr>\n",
       "  </tbody>\n",
       "</table>\n",
       "</div>"
      ],
      "text/plain": [
       "        item_id activation_date  date_from    date_to  days_to_publish  \\\n",
       "0  8f5caef7afb0      2017-02-14 2017-03-15 2017-03-16               29   \n",
       "1  66218ff526d1      2017-02-16 2017-03-15 2017-03-18               27   \n",
       "2  b237d9539b21      2017-03-01 2017-03-15 2017-03-28               14   \n",
       "3  80bf58082ad3      2017-03-19 2017-03-19 2017-03-28                0   \n",
       "4  67a9944a7373      2017-03-14 2017-03-15 2017-03-28                1   \n",
       "\n",
       "   days_online  activation_date_isholiday  activation_date_wday  \\\n",
       "0            1                          0                     1   \n",
       "1            3                          0                     3   \n",
       "2           13                          0                     2   \n",
       "3            9                          0                     6   \n",
       "4           13                          0                     1   \n",
       "\n",
       "   activation_date_yday  date_from_isholiday  date_from_wday  date_from_yday  \\\n",
       "0                    45                    0               2              74   \n",
       "1                    47                    0               2              74   \n",
       "2                    60                    0               2              74   \n",
       "3                    78                    0               6              78   \n",
       "4                    73                    0               2              74   \n",
       "\n",
       "   date_to_isholiday  date_to_wday  date_to_yday  \n",
       "0                  0             3            75  \n",
       "1                  0             5            77  \n",
       "2                  0             1            87  \n",
       "3                  0             1            87  \n",
       "4                  0             1            87  "
      ]
     },
     "execution_count": 17,
     "metadata": {},
     "output_type": "execute_result"
    }
   ],
   "source": [
    "df.head()"
   ]
  },
  {
   "cell_type": "code",
   "execution_count": 18,
   "metadata": {},
   "outputs": [],
   "source": [
    "grouped = df.groupby('item_id')"
   ]
  },
  {
   "cell_type": "code",
   "execution_count": 19,
   "metadata": {},
   "outputs": [],
   "source": [
    "base = grouped[['item_id']].count().rename(columns={'item_id': 'nlisted'})"
   ]
  },
  {
   "cell_type": "code",
   "execution_count": 32,
   "metadata": {},
   "outputs": [],
   "source": [
    "base['sum_days_online'] = grouped[['days_online']].sum()\n",
    "base['mean_days_online'] = grouped[['days_online']].mean()\n",
    "base['last_days_online'] = grouped[['days_online']].last()\n",
    "base['sum_days_to_publishe'] = grouped[['days_to_publish']].sum()\n",
    "base['mean_days_to_publish'] = grouped[['days_to_publish']].mean()\n",
    "base['median_date_to_isholiday'] = grouped[['date_to_isholiday']].median()\n",
    "base['median_date_to_wday'] = grouped[['date_to_wday']].median()\n",
    "base['median_date_to_yday'] = grouped[['date_to_yday']].median()\n",
    "\n",
    "base['start_date'] = grouped[['date_from']].min()\n",
    "base['end_date'] = grouped[['date_to']].max()\n",
    "for col in ['start_date', 'end_date']:\n",
    "    base = featurize_date_col(base, col, remove_when_done=True)"
   ]
  },
  {
   "cell_type": "code",
   "execution_count": 33,
   "metadata": {},
   "outputs": [
    {
     "data": {
      "text/html": [
       "<div>\n",
       "<style scoped>\n",
       "    .dataframe tbody tr th:only-of-type {\n",
       "        vertical-align: middle;\n",
       "    }\n",
       "\n",
       "    .dataframe tbody tr th {\n",
       "        vertical-align: top;\n",
       "    }\n",
       "\n",
       "    .dataframe thead th {\n",
       "        text-align: right;\n",
       "    }\n",
       "</style>\n",
       "<table border=\"1\" class=\"dataframe\">\n",
       "  <thead>\n",
       "    <tr style=\"text-align: right;\">\n",
       "      <th></th>\n",
       "      <th>nlisted</th>\n",
       "      <th>sum_days_online</th>\n",
       "      <th>mean_days_online</th>\n",
       "      <th>start_date_isholiday</th>\n",
       "      <th>start_date_wday</th>\n",
       "      <th>start_date_yday</th>\n",
       "      <th>sum_days_to_publishe</th>\n",
       "      <th>mean_days_to_publish</th>\n",
       "      <th>end_date_isholiday</th>\n",
       "      <th>end_date_wday</th>\n",
       "      <th>end_date_yday</th>\n",
       "      <th>last_days_online</th>\n",
       "      <th>mean_date_to_isholiday</th>\n",
       "      <th>mean_date_to_wday</th>\n",
       "      <th>mean_date_to_yday</th>\n",
       "    </tr>\n",
       "    <tr>\n",
       "      <th>item_id</th>\n",
       "      <th></th>\n",
       "      <th></th>\n",
       "      <th></th>\n",
       "      <th></th>\n",
       "      <th></th>\n",
       "      <th></th>\n",
       "      <th></th>\n",
       "      <th></th>\n",
       "      <th></th>\n",
       "      <th></th>\n",
       "      <th></th>\n",
       "      <th></th>\n",
       "      <th></th>\n",
       "      <th></th>\n",
       "      <th></th>\n",
       "    </tr>\n",
       "  </thead>\n",
       "  <tbody>\n",
       "    <tr>\n",
       "      <th>8f5caef7afb0</th>\n",
       "      <td>2</td>\n",
       "      <td>12</td>\n",
       "      <td>6.0</td>\n",
       "      <td>0</td>\n",
       "      <td>2</td>\n",
       "      <td>74</td>\n",
       "      <td>29</td>\n",
       "      <td>14.5</td>\n",
       "      <td>0</td>\n",
       "      <td>1</td>\n",
       "      <td>87</td>\n",
       "      <td>11</td>\n",
       "      <td>0</td>\n",
       "      <td>2.0</td>\n",
       "      <td>81.0</td>\n",
       "    </tr>\n",
       "    <tr>\n",
       "      <th>b14eb046fefb</th>\n",
       "      <td>2</td>\n",
       "      <td>12</td>\n",
       "      <td>6.0</td>\n",
       "      <td>0</td>\n",
       "      <td>2</td>\n",
       "      <td>74</td>\n",
       "      <td>30</td>\n",
       "      <td>15.0</td>\n",
       "      <td>0</td>\n",
       "      <td>1</td>\n",
       "      <td>87</td>\n",
       "      <td>12</td>\n",
       "      <td>0</td>\n",
       "      <td>1.5</td>\n",
       "      <td>80.5</td>\n",
       "    </tr>\n",
       "    <tr>\n",
       "      <th>6da1b9c127e4</th>\n",
       "      <td>2</td>\n",
       "      <td>11</td>\n",
       "      <td>5.5</td>\n",
       "      <td>0</td>\n",
       "      <td>2</td>\n",
       "      <td>74</td>\n",
       "      <td>23</td>\n",
       "      <td>11.5</td>\n",
       "      <td>0</td>\n",
       "      <td>1</td>\n",
       "      <td>87</td>\n",
       "      <td>4</td>\n",
       "      <td>0</td>\n",
       "      <td>1.5</td>\n",
       "      <td>84.0</td>\n",
       "    </tr>\n",
       "    <tr>\n",
       "      <th>65461756475a</th>\n",
       "      <td>2</td>\n",
       "      <td>11</td>\n",
       "      <td>5.5</td>\n",
       "      <td>0</td>\n",
       "      <td>2</td>\n",
       "      <td>74</td>\n",
       "      <td>30</td>\n",
       "      <td>15.0</td>\n",
       "      <td>0</td>\n",
       "      <td>1</td>\n",
       "      <td>87</td>\n",
       "      <td>11</td>\n",
       "      <td>0</td>\n",
       "      <td>1.5</td>\n",
       "      <td>80.5</td>\n",
       "    </tr>\n",
       "    <tr>\n",
       "      <th>96319c6b00da</th>\n",
       "      <td>2</td>\n",
       "      <td>11</td>\n",
       "      <td>5.5</td>\n",
       "      <td>0</td>\n",
       "      <td>2</td>\n",
       "      <td>74</td>\n",
       "      <td>28</td>\n",
       "      <td>14.0</td>\n",
       "      <td>0</td>\n",
       "      <td>1</td>\n",
       "      <td>87</td>\n",
       "      <td>9</td>\n",
       "      <td>0</td>\n",
       "      <td>2.5</td>\n",
       "      <td>81.5</td>\n",
       "    </tr>\n",
       "  </tbody>\n",
       "</table>\n",
       "</div>"
      ],
      "text/plain": [
       "              nlisted  sum_days_online  mean_days_online  \\\n",
       "item_id                                                    \n",
       "8f5caef7afb0        2               12               6.0   \n",
       "b14eb046fefb        2               12               6.0   \n",
       "6da1b9c127e4        2               11               5.5   \n",
       "65461756475a        2               11               5.5   \n",
       "96319c6b00da        2               11               5.5   \n",
       "\n",
       "              start_date_isholiday  start_date_wday  start_date_yday  \\\n",
       "item_id                                                                \n",
       "8f5caef7afb0                     0                2               74   \n",
       "b14eb046fefb                     0                2               74   \n",
       "6da1b9c127e4                     0                2               74   \n",
       "65461756475a                     0                2               74   \n",
       "96319c6b00da                     0                2               74   \n",
       "\n",
       "              sum_days_to_publishe  mean_days_to_publish  end_date_isholiday  \\\n",
       "item_id                                                                        \n",
       "8f5caef7afb0                    29                  14.5                   0   \n",
       "b14eb046fefb                    30                  15.0                   0   \n",
       "6da1b9c127e4                    23                  11.5                   0   \n",
       "65461756475a                    30                  15.0                   0   \n",
       "96319c6b00da                    28                  14.0                   0   \n",
       "\n",
       "              end_date_wday  end_date_yday  last_days_online  \\\n",
       "item_id                                                        \n",
       "8f5caef7afb0              1             87                11   \n",
       "b14eb046fefb              1             87                12   \n",
       "6da1b9c127e4              1             87                 4   \n",
       "65461756475a              1             87                11   \n",
       "96319c6b00da              1             87                 9   \n",
       "\n",
       "              mean_date_to_isholiday  mean_date_to_wday  mean_date_to_yday  \n",
       "item_id                                                                     \n",
       "8f5caef7afb0                       0                2.0               81.0  \n",
       "b14eb046fefb                       0                1.5               80.5  \n",
       "6da1b9c127e4                       0                1.5               84.0  \n",
       "65461756475a                       0                1.5               80.5  \n",
       "96319c6b00da                       0                2.5               81.5  "
      ]
     },
     "execution_count": 33,
     "metadata": {},
     "output_type": "execute_result"
    }
   ],
   "source": [
    "base.loc[observe_ids].head()"
   ]
  },
  {
   "cell_type": "code",
   "execution_count": null,
   "metadata": {},
   "outputs": [],
   "source": []
  }
 ],
 "metadata": {
  "kernelspec": {
   "display_name": "Python 3",
   "language": "python",
   "name": "python3"
  },
  "language_info": {
   "codemirror_mode": {
    "name": "ipython",
    "version": 3
   },
   "file_extension": ".py",
   "mimetype": "text/x-python",
   "name": "python",
   "nbconvert_exporter": "python",
   "pygments_lexer": "ipython3",
   "version": "3.6.4"
  }
 },
 "nbformat": 4,
 "nbformat_minor": 2
}
